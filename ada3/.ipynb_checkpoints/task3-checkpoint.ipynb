{
 "cells": [
  {
   "cell_type": "code",
   "execution_count": 1,
   "metadata": {
    "collapsed": true
   },
   "outputs": [],
   "source": [
    "import pandas as pd\n",
    "import numpy as np"
   ]
  },
  {
   "cell_type": "code",
   "execution_count": 2,
   "metadata": {
    "collapsed": true
   },
   "outputs": [],
   "source": [
    "from pygeocoder import Geocoder\n",
    "import pycountry"
   ]
  },
  {
   "cell_type": "code",
   "execution_count": null,
   "metadata": {},
   "outputs": [],
   "source": [
    "df=pd.DataFrame.from_csv('tsdec450.tsv', sep='\\t', header=0)\n",
    "df"
   ]
  },
  {
   "cell_type": "code",
   "execution_count": null,
   "metadata": {
    "collapsed": true
   },
   "outputs": [],
   "source": [
    "#Create multi index for easy processing.\n",
    "df[\"age\"] = np.nan\n",
    "df[\"unit\"]=np.nan\n",
    "df[\"sex\"]=np.nan\n",
    "df[\"geo/time\"]=np.nan\n",
    "for i,indexStr in enumerate(df.index):\n",
    "    stringList=indexStr.split(',')\n",
    "    df.iloc[i, df.columns.get_loc('age')] = stringList[0]\n",
    "    df.iloc[i,df.columns.get_loc('unit')]=stringList[1]\n",
    "    df.iloc[i,df.columns.get_loc('sex')]=stringList[2]\n",
    "    df.iloc[i,df.columns.get_loc('geo/time')]=stringList[3]\n",
    "                \n",
    "df=df.set_index(['age', 'unit', 'sex','geo/time'])\n",
    "#Now select the needed latest data \n"
   ]
  },
  {
   "cell_type": "code",
   "execution_count": null,
   "metadata": {},
   "outputs": [],
   "source": [
    "#This wont load properly for some reason (Claas)\n",
    "\n",
    "pycountry.countries.get(alpha_2=\"\")"
   ]
  },
  {
   "cell_type": "code",
   "execution_count": null,
   "metadata": {
    "collapsed": true
   },
   "outputs": [],
   "source": [
    "#We want the data of the total age and the percentage of the active population of 2016\n",
    "countryDf=df.loc[('TOTAL', 'PC_ACT', 'T')][\"2016 \"].copy()\n",
    "#Dropping columns that do not correspond to a country\n",
    "countryDf.drop(['EA18','EA19','EU27','EU28'],inplace=True)\n",
    "#Greece is abbreviated as EL \n",
    "nameIndexes=[]\n",
    "for countryCode in countryDf.index:\n",
    "    if countryCode ==\"EL\":\n",
    "        countryCode=\"GR\"\n",
    "    if countryCode ==\"UK\":\n",
    "        countryCode=\"GB\"\n",
    "    nameIndexes.append(pycountry.countries.get(alpha_2=countryCode).name)\n",
    "countrySeries=pd.Series(countryDf.values,nameIndexes)"
   ]
  },
  {
   "cell_type": "code",
   "execution_count": null,
   "metadata": {
    "collapsed": true
   },
   "outputs": [],
   "source": []
  },
  {
   "cell_type": "code",
   "execution_count": null,
   "metadata": {
    "collapsed": true
   },
   "outputs": [],
   "source": []
  }
 ],
 "metadata": {
  "kernelspec": {
   "display_name": "Python 3",
   "language": "python",
   "name": "python3"
  },
  "language_info": {
   "codemirror_mode": {
    "name": "ipython",
    "version": 3
   },
   "file_extension": ".py",
   "mimetype": "text/x-python",
   "name": "python",
   "nbconvert_exporter": "python",
   "pygments_lexer": "ipython3",
   "version": "3.6.1"
  }
 },
 "nbformat": 4,
 "nbformat_minor": 2
}
